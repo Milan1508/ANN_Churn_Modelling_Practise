{
 "cells": [
  {
   "cell_type": "code",
   "execution_count": 2,
   "metadata": {},
   "outputs": [],
   "source": [
    "import tensorflow as tf"
   ]
  },
  {
   "cell_type": "code",
   "execution_count": 3,
   "metadata": {},
   "outputs": [
    {
     "name": "stdout",
     "output_type": "stream",
     "text": [
      "2.13.0\n"
     ]
    }
   ],
   "source": [
    "print(tf.__version__)"
   ]
  },
  {
   "cell_type": "code",
   "execution_count": 4,
   "metadata": {},
   "outputs": [],
   "source": [
    "# import basic libraries\n",
    "import numpy as np\n",
    "import pandas as pd\n",
    "import matplotlib.pyplot as plt\n",
    "import seaborn as sns"
   ]
  },
  {
   "cell_type": "code",
   "execution_count": 5,
   "metadata": {},
   "outputs": [],
   "source": [
    "dataset = pd.read_csv('Churn_Modelling.csv')"
   ]
  },
  {
   "cell_type": "code",
   "execution_count": 6,
   "metadata": {},
   "outputs": [
    {
     "data": {
      "text/html": [
       "<div>\n",
       "<style scoped>\n",
       "    .dataframe tbody tr th:only-of-type {\n",
       "        vertical-align: middle;\n",
       "    }\n",
       "\n",
       "    .dataframe tbody tr th {\n",
       "        vertical-align: top;\n",
       "    }\n",
       "\n",
       "    .dataframe thead th {\n",
       "        text-align: right;\n",
       "    }\n",
       "</style>\n",
       "<table border=\"1\" class=\"dataframe\">\n",
       "  <thead>\n",
       "    <tr style=\"text-align: right;\">\n",
       "      <th></th>\n",
       "      <th>RowNumber</th>\n",
       "      <th>CustomerId</th>\n",
       "      <th>Surname</th>\n",
       "      <th>CreditScore</th>\n",
       "      <th>Geography</th>\n",
       "      <th>Gender</th>\n",
       "      <th>Age</th>\n",
       "      <th>Tenure</th>\n",
       "      <th>Balance</th>\n",
       "      <th>NumOfProducts</th>\n",
       "      <th>HasCrCard</th>\n",
       "      <th>IsActiveMember</th>\n",
       "      <th>EstimatedSalary</th>\n",
       "      <th>Exited</th>\n",
       "    </tr>\n",
       "  </thead>\n",
       "  <tbody>\n",
       "    <tr>\n",
       "      <th>0</th>\n",
       "      <td>1</td>\n",
       "      <td>15634602</td>\n",
       "      <td>Hargrave</td>\n",
       "      <td>619</td>\n",
       "      <td>France</td>\n",
       "      <td>Female</td>\n",
       "      <td>42</td>\n",
       "      <td>2</td>\n",
       "      <td>0.00</td>\n",
       "      <td>1</td>\n",
       "      <td>1</td>\n",
       "      <td>1</td>\n",
       "      <td>101348.88</td>\n",
       "      <td>1</td>\n",
       "    </tr>\n",
       "    <tr>\n",
       "      <th>1</th>\n",
       "      <td>2</td>\n",
       "      <td>15647311</td>\n",
       "      <td>Hill</td>\n",
       "      <td>608</td>\n",
       "      <td>Spain</td>\n",
       "      <td>Female</td>\n",
       "      <td>41</td>\n",
       "      <td>1</td>\n",
       "      <td>83807.86</td>\n",
       "      <td>1</td>\n",
       "      <td>0</td>\n",
       "      <td>1</td>\n",
       "      <td>112542.58</td>\n",
       "      <td>0</td>\n",
       "    </tr>\n",
       "    <tr>\n",
       "      <th>2</th>\n",
       "      <td>3</td>\n",
       "      <td>15619304</td>\n",
       "      <td>Onio</td>\n",
       "      <td>502</td>\n",
       "      <td>France</td>\n",
       "      <td>Female</td>\n",
       "      <td>42</td>\n",
       "      <td>8</td>\n",
       "      <td>159660.80</td>\n",
       "      <td>3</td>\n",
       "      <td>1</td>\n",
       "      <td>0</td>\n",
       "      <td>113931.57</td>\n",
       "      <td>1</td>\n",
       "    </tr>\n",
       "    <tr>\n",
       "      <th>3</th>\n",
       "      <td>4</td>\n",
       "      <td>15701354</td>\n",
       "      <td>Boni</td>\n",
       "      <td>699</td>\n",
       "      <td>France</td>\n",
       "      <td>Female</td>\n",
       "      <td>39</td>\n",
       "      <td>1</td>\n",
       "      <td>0.00</td>\n",
       "      <td>2</td>\n",
       "      <td>0</td>\n",
       "      <td>0</td>\n",
       "      <td>93826.63</td>\n",
       "      <td>0</td>\n",
       "    </tr>\n",
       "    <tr>\n",
       "      <th>4</th>\n",
       "      <td>5</td>\n",
       "      <td>15737888</td>\n",
       "      <td>Mitchell</td>\n",
       "      <td>850</td>\n",
       "      <td>Spain</td>\n",
       "      <td>Female</td>\n",
       "      <td>43</td>\n",
       "      <td>2</td>\n",
       "      <td>125510.82</td>\n",
       "      <td>1</td>\n",
       "      <td>1</td>\n",
       "      <td>1</td>\n",
       "      <td>79084.10</td>\n",
       "      <td>0</td>\n",
       "    </tr>\n",
       "  </tbody>\n",
       "</table>\n",
       "</div>"
      ],
      "text/plain": [
       "   RowNumber  CustomerId   Surname  CreditScore Geography  Gender  Age  \\\n",
       "0          1    15634602  Hargrave          619    France  Female   42   \n",
       "1          2    15647311      Hill          608     Spain  Female   41   \n",
       "2          3    15619304      Onio          502    France  Female   42   \n",
       "3          4    15701354      Boni          699    France  Female   39   \n",
       "4          5    15737888  Mitchell          850     Spain  Female   43   \n",
       "\n",
       "   Tenure    Balance  NumOfProducts  HasCrCard  IsActiveMember  \\\n",
       "0       2       0.00              1          1               1   \n",
       "1       1   83807.86              1          0               1   \n",
       "2       8  159660.80              3          1               0   \n",
       "3       1       0.00              2          0               0   \n",
       "4       2  125510.82              1          1               1   \n",
       "\n",
       "   EstimatedSalary  Exited  \n",
       "0        101348.88       1  \n",
       "1        112542.58       0  \n",
       "2        113931.57       1  \n",
       "3         93826.63       0  \n",
       "4         79084.10       0  "
      ]
     },
     "execution_count": 6,
     "metadata": {},
     "output_type": "execute_result"
    }
   ],
   "source": [
    "dataset.head()  "
   ]
  },
  {
   "cell_type": "code",
   "execution_count": 7,
   "metadata": {},
   "outputs": [],
   "source": [
    "X = dataset.iloc[:, 3:13]\n",
    "y= dataset.iloc[:, 13]"
   ]
  },
  {
   "cell_type": "code",
   "execution_count": 8,
   "metadata": {},
   "outputs": [
    {
     "data": {
      "text/html": [
       "<div>\n",
       "<style scoped>\n",
       "    .dataframe tbody tr th:only-of-type {\n",
       "        vertical-align: middle;\n",
       "    }\n",
       "\n",
       "    .dataframe tbody tr th {\n",
       "        vertical-align: top;\n",
       "    }\n",
       "\n",
       "    .dataframe thead th {\n",
       "        text-align: right;\n",
       "    }\n",
       "</style>\n",
       "<table border=\"1\" class=\"dataframe\">\n",
       "  <thead>\n",
       "    <tr style=\"text-align: right;\">\n",
       "      <th></th>\n",
       "      <th>CreditScore</th>\n",
       "      <th>Geography</th>\n",
       "      <th>Gender</th>\n",
       "      <th>Age</th>\n",
       "      <th>Tenure</th>\n",
       "      <th>Balance</th>\n",
       "      <th>NumOfProducts</th>\n",
       "      <th>HasCrCard</th>\n",
       "      <th>IsActiveMember</th>\n",
       "      <th>EstimatedSalary</th>\n",
       "    </tr>\n",
       "  </thead>\n",
       "  <tbody>\n",
       "    <tr>\n",
       "      <th>0</th>\n",
       "      <td>619</td>\n",
       "      <td>France</td>\n",
       "      <td>Female</td>\n",
       "      <td>42</td>\n",
       "      <td>2</td>\n",
       "      <td>0.00</td>\n",
       "      <td>1</td>\n",
       "      <td>1</td>\n",
       "      <td>1</td>\n",
       "      <td>101348.88</td>\n",
       "    </tr>\n",
       "    <tr>\n",
       "      <th>1</th>\n",
       "      <td>608</td>\n",
       "      <td>Spain</td>\n",
       "      <td>Female</td>\n",
       "      <td>41</td>\n",
       "      <td>1</td>\n",
       "      <td>83807.86</td>\n",
       "      <td>1</td>\n",
       "      <td>0</td>\n",
       "      <td>1</td>\n",
       "      <td>112542.58</td>\n",
       "    </tr>\n",
       "    <tr>\n",
       "      <th>2</th>\n",
       "      <td>502</td>\n",
       "      <td>France</td>\n",
       "      <td>Female</td>\n",
       "      <td>42</td>\n",
       "      <td>8</td>\n",
       "      <td>159660.80</td>\n",
       "      <td>3</td>\n",
       "      <td>1</td>\n",
       "      <td>0</td>\n",
       "      <td>113931.57</td>\n",
       "    </tr>\n",
       "    <tr>\n",
       "      <th>3</th>\n",
       "      <td>699</td>\n",
       "      <td>France</td>\n",
       "      <td>Female</td>\n",
       "      <td>39</td>\n",
       "      <td>1</td>\n",
       "      <td>0.00</td>\n",
       "      <td>2</td>\n",
       "      <td>0</td>\n",
       "      <td>0</td>\n",
       "      <td>93826.63</td>\n",
       "    </tr>\n",
       "    <tr>\n",
       "      <th>4</th>\n",
       "      <td>850</td>\n",
       "      <td>Spain</td>\n",
       "      <td>Female</td>\n",
       "      <td>43</td>\n",
       "      <td>2</td>\n",
       "      <td>125510.82</td>\n",
       "      <td>1</td>\n",
       "      <td>1</td>\n",
       "      <td>1</td>\n",
       "      <td>79084.10</td>\n",
       "    </tr>\n",
       "  </tbody>\n",
       "</table>\n",
       "</div>"
      ],
      "text/plain": [
       "   CreditScore Geography  Gender  Age  Tenure    Balance  NumOfProducts  \\\n",
       "0          619    France  Female   42       2       0.00              1   \n",
       "1          608     Spain  Female   41       1   83807.86              1   \n",
       "2          502    France  Female   42       8  159660.80              3   \n",
       "3          699    France  Female   39       1       0.00              2   \n",
       "4          850     Spain  Female   43       2  125510.82              1   \n",
       "\n",
       "   HasCrCard  IsActiveMember  EstimatedSalary  \n",
       "0          1               1        101348.88  \n",
       "1          0               1        112542.58  \n",
       "2          1               0        113931.57  \n",
       "3          0               0         93826.63  \n",
       "4          1               1         79084.10  "
      ]
     },
     "execution_count": 8,
     "metadata": {},
     "output_type": "execute_result"
    }
   ],
   "source": [
    "X.head()"
   ]
  },
  {
   "cell_type": "code",
   "execution_count": 9,
   "metadata": {},
   "outputs": [
    {
     "data": {
      "text/plain": [
       "0       1\n",
       "1       0\n",
       "2       1\n",
       "3       0\n",
       "4       0\n",
       "       ..\n",
       "9995    0\n",
       "9996    0\n",
       "9997    1\n",
       "9998    1\n",
       "9999    0\n",
       "Name: Exited, Length: 10000, dtype: int64"
      ]
     },
     "execution_count": 9,
     "metadata": {},
     "output_type": "execute_result"
    }
   ],
   "source": [
    "y"
   ]
  },
  {
   "cell_type": "code",
   "execution_count": 10,
   "metadata": {},
   "outputs": [],
   "source": [
    "## Feature Engineering\n",
    "geography = pd.get_dummies(X['Geography'], drop_first=True)\n",
    "gender = pd.get_dummies(X['Gender'], drop_first=True)"
   ]
  },
  {
   "cell_type": "code",
   "execution_count": 11,
   "metadata": {},
   "outputs": [],
   "source": [
    "X.drop(['Geography','Gender'], axis=1, inplace=True)"
   ]
  },
  {
   "cell_type": "code",
   "execution_count": 12,
   "metadata": {},
   "outputs": [],
   "source": [
    "X = pd.concat([X,geography,gender],axis=1)"
   ]
  },
  {
   "cell_type": "code",
   "execution_count": 13,
   "metadata": {},
   "outputs": [],
   "source": [
    "from sklearn.model_selection import train_test_split   "
   ]
  },
  {
   "cell_type": "code",
   "execution_count": 14,
   "metadata": {},
   "outputs": [],
   "source": [
    "x_train, x_test, y_train, y_test = train_test_split(X, y, test_size=0.2, random_state=0)"
   ]
  },
  {
   "cell_type": "code",
   "execution_count": 15,
   "metadata": {},
   "outputs": [],
   "source": [
    "# feature skaling\n",
    "from sklearn.preprocessing import StandardScaler"
   ]
  },
  {
   "cell_type": "code",
   "execution_count": 16,
   "metadata": {},
   "outputs": [],
   "source": [
    "sc = StandardScaler()"
   ]
  },
  {
   "cell_type": "code",
   "execution_count": 17,
   "metadata": {},
   "outputs": [],
   "source": [
    "x_train = sc.fit_transform(x_train)\n",
    "x_test = sc.transform(x_test)"
   ]
  },
  {
   "cell_type": "code",
   "execution_count": 18,
   "metadata": {},
   "outputs": [
    {
     "data": {
      "text/plain": [
       "(8000, 11)"
      ]
     },
     "execution_count": 18,
     "metadata": {},
     "output_type": "execute_result"
    }
   ],
   "source": [
    "x_train.shape"
   ]
  },
  {
   "cell_type": "code",
   "execution_count": 19,
   "metadata": {},
   "outputs": [
    {
     "data": {
      "text/plain": [
       "(2000, 11)"
      ]
     },
     "execution_count": 19,
     "metadata": {},
     "output_type": "execute_result"
    }
   ],
   "source": [
    "x_test.shape"
   ]
  },
  {
   "cell_type": "code",
   "execution_count": 20,
   "metadata": {},
   "outputs": [],
   "source": [
    "# Lets create the ANN\n",
    "from tensorflow.keras.models import Sequential\n",
    "from tensorflow.keras.layers import Dense\n",
    "from tensorflow.keras.layers import LeakyReLU, PReLU, ELU,ReLU\n",
    "from tensorflow.keras.layers import Dropout"
   ]
  },
  {
   "cell_type": "code",
   "execution_count": 21,
   "metadata": {},
   "outputs": [],
   "source": [
    "# Initializing the ANN\n",
    "classifier = Sequential()  "
   ]
  },
  {
   "cell_type": "code",
   "execution_count": 22,
   "metadata": {},
   "outputs": [],
   "source": [
    "# adding the input layer\n",
    "classifier.add(Dense(units=11, activation=\"relu\"))"
   ]
  },
  {
   "cell_type": "code",
   "execution_count": 23,
   "metadata": {},
   "outputs": [],
   "source": [
    "# first hidden layer\n",
    "classifier.add(Dense(units=7, activation='ReLU'))"
   ]
  },
  {
   "cell_type": "code",
   "execution_count": 24,
   "metadata": {},
   "outputs": [],
   "source": [
    "# second hidden layer\n",
    "classifier.add(Dense(units=6, activation='ReLU'))"
   ]
  },
  {
   "cell_type": "code",
   "execution_count": 25,
   "metadata": {},
   "outputs": [],
   "source": [
    "# adding the outout layer\n",
    "classifier.add(Dense(units=1, activation='sigmoid'))"
   ]
  },
  {
   "cell_type": "code",
   "execution_count": 28,
   "metadata": {},
   "outputs": [],
   "source": [
    "# compiling the ANN\n",
    "classifier.compile(optimizer=opt,loss='binary_crossentropy',metrics=['accuracy'])"
   ]
  },
  {
   "cell_type": "code",
   "execution_count": 27,
   "metadata": {},
   "outputs": [],
   "source": [
    "import tensorflow\n",
    "opt= tensorflow.keras.optimizers.Adam(learning_rate=0.01)"
   ]
  },
  {
   "cell_type": "code",
   "execution_count": 30,
   "metadata": {},
   "outputs": [
    {
     "name": "stdout",
     "output_type": "stream",
     "text": [
      "Epoch 1/1000\n",
      "536/536 [==============================] - 4s 5ms/step - loss: 0.4209 - accuracy: 0.8203 - val_loss: 0.3880 - val_accuracy: 0.8391\n",
      "Epoch 2/1000\n",
      "536/536 [==============================] - 2s 4ms/step - loss: 0.3611 - accuracy: 0.8541 - val_loss: 0.3677 - val_accuracy: 0.8493\n",
      "Epoch 3/1000\n",
      "536/536 [==============================] - 2s 4ms/step - loss: 0.3564 - accuracy: 0.8558 - val_loss: 0.3655 - val_accuracy: 0.8516\n",
      "Epoch 4/1000\n",
      "536/536 [==============================] - 2s 4ms/step - loss: 0.3498 - accuracy: 0.8576 - val_loss: 0.3685 - val_accuracy: 0.8489\n",
      "Epoch 5/1000\n",
      "536/536 [==============================] - 2s 4ms/step - loss: 0.3497 - accuracy: 0.8561 - val_loss: 0.3649 - val_accuracy: 0.8531\n",
      "Epoch 6/1000\n",
      "536/536 [==============================] - 2s 4ms/step - loss: 0.3480 - accuracy: 0.8572 - val_loss: 0.3665 - val_accuracy: 0.8527\n",
      "Epoch 7/1000\n",
      "536/536 [==============================] - 2s 3ms/step - loss: 0.3449 - accuracy: 0.8606 - val_loss: 0.3681 - val_accuracy: 0.8508\n",
      "Epoch 8/1000\n",
      "536/536 [==============================] - 2s 3ms/step - loss: 0.3443 - accuracy: 0.8636 - val_loss: 0.3664 - val_accuracy: 0.8485\n",
      "Epoch 9/1000\n",
      "536/536 [==============================] - 2s 3ms/step - loss: 0.3452 - accuracy: 0.8587 - val_loss: 0.3616 - val_accuracy: 0.8546\n",
      "Epoch 10/1000\n",
      "536/536 [==============================] - 2s 3ms/step - loss: 0.3401 - accuracy: 0.8636 - val_loss: 0.3617 - val_accuracy: 0.8523\n",
      "Epoch 11/1000\n",
      "536/536 [==============================] - 1s 3ms/step - loss: 0.3449 - accuracy: 0.8619 - val_loss: 0.3680 - val_accuracy: 0.8504\n",
      "Epoch 12/1000\n",
      "536/536 [==============================] - 1s 3ms/step - loss: 0.3406 - accuracy: 0.8602 - val_loss: 0.3723 - val_accuracy: 0.8512\n",
      "Epoch 13/1000\n",
      "536/536 [==============================] - 1s 3ms/step - loss: 0.3433 - accuracy: 0.8582 - val_loss: 0.3802 - val_accuracy: 0.8501\n",
      "Epoch 14/1000\n",
      "536/536 [==============================] - 1s 3ms/step - loss: 0.3392 - accuracy: 0.8597 - val_loss: 0.3652 - val_accuracy: 0.8504\n",
      "Epoch 15/1000\n",
      "536/536 [==============================] - 1s 2ms/step - loss: 0.3391 - accuracy: 0.8623 - val_loss: 0.3651 - val_accuracy: 0.8535\n",
      "Epoch 16/1000\n",
      "536/536 [==============================] - 1s 3ms/step - loss: 0.3374 - accuracy: 0.8610 - val_loss: 0.3651 - val_accuracy: 0.8538\n",
      "Epoch 17/1000\n",
      "536/536 [==============================] - 1s 3ms/step - loss: 0.3372 - accuracy: 0.8625 - val_loss: 0.3619 - val_accuracy: 0.8508\n",
      "Epoch 18/1000\n",
      "536/536 [==============================] - 1s 3ms/step - loss: 0.3374 - accuracy: 0.8630 - val_loss: 0.3629 - val_accuracy: 0.8504\n",
      "Epoch 19/1000\n",
      "536/536 [==============================] - 1s 2ms/step - loss: 0.3370 - accuracy: 0.8627 - val_loss: 0.3589 - val_accuracy: 0.8542\n",
      "Epoch 20/1000\n",
      "536/536 [==============================] - 1s 3ms/step - loss: 0.3348 - accuracy: 0.8608 - val_loss: 0.3643 - val_accuracy: 0.8538\n",
      "Epoch 21/1000\n",
      "536/536 [==============================] - 1s 3ms/step - loss: 0.3344 - accuracy: 0.8655 - val_loss: 0.3686 - val_accuracy: 0.8599\n",
      "Epoch 22/1000\n",
      "536/536 [==============================] - 1s 3ms/step - loss: 0.3365 - accuracy: 0.8642 - val_loss: 0.3630 - val_accuracy: 0.8584\n",
      "Epoch 23/1000\n",
      "536/536 [==============================] - 1s 2ms/step - loss: 0.3349 - accuracy: 0.8628 - val_loss: 0.3636 - val_accuracy: 0.8576\n",
      "Epoch 24/1000\n",
      "536/536 [==============================] - 1s 3ms/step - loss: 0.3351 - accuracy: 0.8614 - val_loss: 0.3597 - val_accuracy: 0.8554\n",
      "Epoch 25/1000\n",
      "536/536 [==============================] - 1s 3ms/step - loss: 0.3331 - accuracy: 0.8645 - val_loss: 0.3682 - val_accuracy: 0.8531\n",
      "Epoch 26/1000\n",
      "536/536 [==============================] - 1s 3ms/step - loss: 0.3315 - accuracy: 0.8640 - val_loss: 0.3593 - val_accuracy: 0.8584\n",
      "Epoch 27/1000\n",
      "536/536 [==============================] - 1s 3ms/step - loss: 0.3304 - accuracy: 0.8658 - val_loss: 0.3714 - val_accuracy: 0.8508\n",
      "Epoch 28/1000\n",
      "536/536 [==============================] - 2s 3ms/step - loss: 0.3328 - accuracy: 0.8658 - val_loss: 0.3646 - val_accuracy: 0.8557\n",
      "Epoch 29/1000\n",
      "536/536 [==============================] - 2s 3ms/step - loss: 0.3321 - accuracy: 0.8683 - val_loss: 0.3841 - val_accuracy: 0.8535\n",
      "Epoch 30/1000\n",
      "536/536 [==============================] - 2s 3ms/step - loss: 0.3328 - accuracy: 0.8660 - val_loss: 0.3641 - val_accuracy: 0.8580\n",
      "Epoch 31/1000\n",
      "536/536 [==============================] - 2s 4ms/step - loss: 0.3282 - accuracy: 0.8679 - val_loss: 0.3628 - val_accuracy: 0.8554\n",
      "Epoch 32/1000\n",
      "536/536 [==============================] - 2s 3ms/step - loss: 0.3287 - accuracy: 0.8656 - val_loss: 0.3678 - val_accuracy: 0.8561\n",
      "Epoch 33/1000\n",
      "536/536 [==============================] - 2s 3ms/step - loss: 0.3271 - accuracy: 0.8677 - val_loss: 0.3626 - val_accuracy: 0.8588\n",
      "Epoch 34/1000\n",
      "536/536 [==============================] - 1s 3ms/step - loss: 0.3289 - accuracy: 0.8649 - val_loss: 0.3638 - val_accuracy: 0.8561\n",
      "Epoch 35/1000\n",
      "536/536 [==============================] - 2s 3ms/step - loss: 0.3262 - accuracy: 0.8658 - val_loss: 0.3686 - val_accuracy: 0.8538\n",
      "Epoch 36/1000\n",
      "536/536 [==============================] - 2s 3ms/step - loss: 0.3274 - accuracy: 0.8655 - val_loss: 0.3568 - val_accuracy: 0.8591\n",
      "Epoch 37/1000\n",
      "536/536 [==============================] - 2s 3ms/step - loss: 0.3262 - accuracy: 0.8692 - val_loss: 0.3644 - val_accuracy: 0.8538\n",
      "Epoch 38/1000\n",
      "536/536 [==============================] - 2s 3ms/step - loss: 0.3258 - accuracy: 0.8671 - val_loss: 0.3694 - val_accuracy: 0.8565\n",
      "Epoch 39/1000\n",
      "536/536 [==============================] - 2s 3ms/step - loss: 0.3246 - accuracy: 0.8679 - val_loss: 0.3831 - val_accuracy: 0.8550\n",
      "Epoch 40/1000\n",
      "536/536 [==============================] - 2s 3ms/step - loss: 0.3267 - accuracy: 0.8677 - val_loss: 0.3751 - val_accuracy: 0.8523\n",
      "Epoch 41/1000\n",
      "536/536 [==============================] - 1s 3ms/step - loss: 0.3257 - accuracy: 0.8668 - val_loss: 0.3764 - val_accuracy: 0.8588\n",
      "Epoch 42/1000\n",
      "536/536 [==============================] - 2s 3ms/step - loss: 0.3257 - accuracy: 0.8683 - val_loss: 0.3676 - val_accuracy: 0.8584\n",
      "Epoch 43/1000\n",
      "536/536 [==============================] - 1s 3ms/step - loss: 0.3231 - accuracy: 0.8707 - val_loss: 0.3634 - val_accuracy: 0.8546\n",
      "Epoch 44/1000\n",
      "536/536 [==============================] - 2s 3ms/step - loss: 0.3228 - accuracy: 0.8666 - val_loss: 0.3645 - val_accuracy: 0.8557\n",
      "Epoch 45/1000\n",
      "536/536 [==============================] - 1s 3ms/step - loss: 0.3234 - accuracy: 0.8692 - val_loss: 0.3662 - val_accuracy: 0.8565\n",
      "Epoch 46/1000\n",
      "536/536 [==============================] - 2s 3ms/step - loss: 0.3253 - accuracy: 0.8655 - val_loss: 0.3722 - val_accuracy: 0.8588\n",
      "Epoch 47/1000\n",
      "536/536 [==============================] - 1s 3ms/step - loss: 0.3269 - accuracy: 0.8658 - val_loss: 0.3724 - val_accuracy: 0.8591\n",
      "Epoch 48/1000\n",
      "536/536 [==============================] - 2s 3ms/step - loss: 0.3257 - accuracy: 0.8662 - val_loss: 0.3651 - val_accuracy: 0.8527\n",
      "Epoch 49/1000\n",
      "536/536 [==============================] - 1s 3ms/step - loss: 0.3216 - accuracy: 0.8675 - val_loss: 0.3634 - val_accuracy: 0.8610\n",
      "Epoch 50/1000\n",
      "536/536 [==============================] - 2s 3ms/step - loss: 0.3275 - accuracy: 0.8670 - val_loss: 0.3676 - val_accuracy: 0.8531\n",
      "Epoch 51/1000\n",
      "536/536 [==============================] - 1s 3ms/step - loss: 0.3256 - accuracy: 0.8701 - val_loss: 0.3771 - val_accuracy: 0.8542\n",
      "Epoch 52/1000\n",
      "536/536 [==============================] - 2s 3ms/step - loss: 0.3223 - accuracy: 0.8686 - val_loss: 0.3843 - val_accuracy: 0.8554\n",
      "Epoch 53/1000\n",
      "536/536 [==============================] - 1s 3ms/step - loss: 0.3243 - accuracy: 0.8686 - val_loss: 0.3647 - val_accuracy: 0.8527\n",
      "Epoch 54/1000\n",
      "536/536 [==============================] - 2s 3ms/step - loss: 0.3226 - accuracy: 0.8705 - val_loss: 0.3792 - val_accuracy: 0.8569\n",
      "Epoch 55/1000\n",
      "536/536 [==============================] - 1s 3ms/step - loss: 0.3205 - accuracy: 0.8701 - val_loss: 0.3682 - val_accuracy: 0.8554\n",
      "Epoch 56/1000\n",
      "536/536 [==============================] - 2s 3ms/step - loss: 0.3186 - accuracy: 0.8698 - val_loss: 0.3841 - val_accuracy: 0.8554\n",
      "Epoch 56: early stopping\n"
     ]
    }
   ],
   "source": [
    "model_history = classifier.fit(x_train, y_train, validation_split=0.33, batch_size=10, epochs=1000, callbacks=early_stopping)"
   ]
  },
  {
   "cell_type": "code",
   "execution_count": 29,
   "metadata": {},
   "outputs": [],
   "source": [
    "import tensorflow as tf\n",
    "early_stopping = tf.keras.callbacks.EarlyStopping(\n",
    "    monitor='val_loss',\n",
    "    min_delta=0.0001,\n",
    "      patience=20,\n",
    "      verbose=1,\n",
    "      mode='auto',\n",
    "      baseline=None,\n",
    "      restore_best_weights=False,\n",
    "      )"
   ]
  },
  {
   "cell_type": "code",
   "execution_count": 31,
   "metadata": {},
   "outputs": [
    {
     "data": {
      "text/plain": [
       "dict_keys(['loss', 'accuracy', 'val_loss', 'val_accuracy'])"
      ]
     },
     "execution_count": 31,
     "metadata": {},
     "output_type": "execute_result"
    }
   ],
   "source": [
    "model_history.history.keys()"
   ]
  },
  {
   "cell_type": "code",
   "execution_count": 32,
   "metadata": {},
   "outputs": [
    {
     "name": "stdout",
     "output_type": "stream",
     "text": [
      "63/63 [==============================] - 0s 2ms/step\n"
     ]
    }
   ],
   "source": [
    "y_pred = classifier.predict(x_test)\n",
    "y_pred = y_pred >= 0.5"
   ]
  },
  {
   "cell_type": "code",
   "execution_count": 33,
   "metadata": {},
   "outputs": [
    {
     "name": "stdout",
     "output_type": "stream",
     "text": [
      "[[1482  113]\n",
      " [ 175  230]]\n"
     ]
    }
   ],
   "source": [
    "from sklearn.metrics import confusion_matrix, accuracy_score\n",
    "cm = confusion_matrix(y_test, y_pred)   \n",
    "print(cm)"
   ]
  },
  {
   "cell_type": "code",
   "execution_count": 34,
   "metadata": {},
   "outputs": [
    {
     "data": {
      "text/plain": [
       "0.856"
      ]
     },
     "execution_count": 34,
     "metadata": {},
     "output_type": "execute_result"
    }
   ],
   "source": [
    "accuracy_score(y_test, y_pred)"
   ]
  },
  {
   "cell_type": "code",
   "execution_count": 35,
   "metadata": {},
   "outputs": [
    {
     "data": {
      "text/plain": [
       "[array([[ 2.38121122e-01,  3.43131237e-02,  8.20957839e-01,\n",
       "         -1.20676629e-01, -1.30164310e-01, -3.17815155e-01,\n",
       "          8.13189149e-01,  3.31643730e-01,  5.17780900e-01,\n",
       "          3.72638553e-01, -5.36876380e-01],\n",
       "        [-2.91446060e-01, -2.99100232e+00, -8.21852088e-01,\n",
       "          2.90701365e+00, -2.02105656e-01,  2.01988637e-01,\n",
       "         -2.39908838e+00,  1.54784203e+00, -1.85943472e+00,\n",
       "         -9.78731394e-01,  3.59820533e+00],\n",
       "        [ 7.90708899e-01,  3.08239281e-01,  4.81801890e-02,\n",
       "          1.38485610e-01,  1.27197433e+00,  7.89526820e-01,\n",
       "         -5.83963871e-01, -2.22748280e-01,  1.20700017e-01,\n",
       "          2.40387321e+00,  1.13949291e-01],\n",
       "        [-1.94554758e+00,  2.75933802e-01,  2.74756253e-01,\n",
       "          3.02978933e-01,  5.80303490e-01, -1.88419759e+00,\n",
       "         -7.27032721e-01,  2.72965312e+00, -1.13400447e+00,\n",
       "         -1.15070415e+00, -2.37514329e+00],\n",
       "        [-5.97710550e-01,  1.06613648e+00, -9.35135901e-01,\n",
       "          2.04019368e-01, -1.64080286e+00,  2.24998188e+00,\n",
       "         -1.31193674e+00,  2.76367021e+00,  3.91936874e+00,\n",
       "         -9.22632575e-01, -3.60175443e+00],\n",
       "        [-9.63200927e-01, -5.88282406e-01,  2.06253484e-01,\n",
       "         -3.77367765e-01,  1.08563256e+00,  2.24734560e-01,\n",
       "          1.71131885e+00, -5.70091307e-01,  1.19422570e-01,\n",
       "         -1.88650489e+00, -1.08952358e-01],\n",
       "        [ 7.17330754e-01,  2.96019912e-01, -7.81862199e-01,\n",
       "          1.79229617e+00,  4.41767350e-02,  2.25607157e+00,\n",
       "          2.75075912e+00, -9.32656527e-01, -7.63685852e-02,\n",
       "          5.55085182e-01, -5.26841164e-01],\n",
       "        [-7.35115290e-01, -3.76024216e-01, -2.36961007e+00,\n",
       "         -1.65635943e-01,  2.11533976e+00,  2.37065101e+00,\n",
       "          1.31256688e+00, -1.90977529e-01, -5.52461386e-01,\n",
       "          1.71098351e+00,  2.60750026e-01],\n",
       "        [-9.46895242e-01, -1.23219049e+00,  2.46404096e-01,\n",
       "         -1.94494769e-01,  2.50562000e+00,  1.50274396e+00,\n",
       "          1.57731012e-01, -2.09507465e+00,  9.76506531e-01,\n",
       "         -7.19576120e-01,  1.34113407e+00],\n",
       "        [-7.43040144e-01, -2.31445238e-01,  1.78285861e+00,\n",
       "          5.77211022e-01,  1.87374473e+00,  8.77553344e-01,\n",
       "          6.84889138e-01,  2.01487109e-01,  8.04249942e-01,\n",
       "          1.87052643e+00, -2.76597470e-01],\n",
       "        [ 2.99318314e+00,  2.63829739e-03, -1.21735799e+00,\n",
       "         -1.00805186e-01, -1.28695691e+00,  9.69225883e-01,\n",
       "          5.37727810e-02,  1.37364253e-01, -3.69787604e-01,\n",
       "          1.26785243e+00, -2.47863308e-01]], dtype=float32),\n",
       " array([-0.25192165,  3.5162838 , -0.8068594 , -5.255707  ,  0.11718509,\n",
       "        -3.7419689 , -0.22914612, -2.9855294 , -1.6176255 , -1.8689818 ,\n",
       "        -0.41447136], dtype=float32),\n",
       " array([[-2.118606  ,  1.1541945 , -0.10221556, -0.08744266, -0.7465935 ,\n",
       "          0.84261847, -0.53739053],\n",
       "        [-1.1177185 , -0.47699147,  0.9811553 , -1.4207114 , -0.8795587 ,\n",
       "          0.20337553, -2.1922467 ],\n",
       "        [-2.8198056 , -1.111616  , -0.53245515,  1.3037503 ,  0.15599221,\n",
       "         -0.29859468,  0.48178238],\n",
       "        [-0.0309124 ,  0.14888908,  1.5967258 ,  2.5655565 , -0.09896016,\n",
       "          0.2734591 , -4.87822   ],\n",
       "        [-1.0639243 , -3.7725012 , -1.8211217 , -2.9807398 , -0.15746714,\n",
       "         -0.24542056, -0.32960287],\n",
       "        [ 1.3039497 , -0.71105134,  3.6654189 ,  1.8991402 , -0.26630443,\n",
       "          1.0501262 , -0.04637057],\n",
       "        [-0.71716785, -2.0587926 , -0.16864897, -0.8516345 , -0.04204859,\n",
       "          0.5968849 , -1.2531806 ],\n",
       "        [ 1.7173554 , -3.661257  , -0.17637327, -2.338324  , -0.49067837,\n",
       "         -2.0447197 ,  2.34005   ],\n",
       "        [ 1.8631661 ,  1.3442879 , -0.7284205 , -0.05811929, -0.23714943,\n",
       "          1.4108866 , -2.1667101 ],\n",
       "        [-2.8192554 ,  0.17350526, -2.468469  , -0.5364672 , -0.5226116 ,\n",
       "          0.50931543,  0.7683567 ],\n",
       "        [-3.9477413 , -1.6979035 , -0.11956209, -0.4719609 , -0.8173998 ,\n",
       "         -3.0445623 ,  1.1156812 ]], dtype=float32),\n",
       " array([-2.479425  , -1.2041513 ,  0.8956942 , -1.6471167 , -0.23882163,\n",
       "         2.6790435 ,  0.39804962], dtype=float32),\n",
       " array([[-2.8905675 ,  1.0952493 , -1.6218542 ,  0.5788027 , -0.82885826,\n",
       "          1.7371343 ],\n",
       "        [ 1.0916249 ,  0.7061886 , -0.8403813 , -1.5398808 ,  0.12898616,\n",
       "          0.7785876 ],\n",
       "        [ 0.3699806 , -0.42629653, -0.55720323, -0.5905376 , -0.85760367,\n",
       "          0.09612698],\n",
       "        [ 1.434755  , -1.2302026 ,  0.4297106 , -0.11554688, -0.0972354 ,\n",
       "         -0.52655184],\n",
       "        [ 0.13895354, -0.6568702 ,  0.41508475,  0.41197914, -0.4824503 ,\n",
       "         -0.7169638 ],\n",
       "        [ 0.43217993, -1.361523  , -2.1038468 , -0.63399386, -0.86081874,\n",
       "         -0.7951816 ],\n",
       "        [-2.4981682 ,  0.28295442,  0.643473  ,  0.2330755 , -0.33298978,\n",
       "         -0.6770435 ]], dtype=float32),\n",
       " array([-0.07752234, -3.838495  ,  0.73634666, -2.8984838 , -0.8604541 ,\n",
       "        -3.0686674 ], dtype=float32),\n",
       " array([[-0.38626423],\n",
       "        [ 0.3645732 ],\n",
       "        [ 0.5341698 ],\n",
       "        [ 0.18039009],\n",
       "        [-0.01544058],\n",
       "        [ 0.3759064 ]], dtype=float32),\n",
       " array([-1.1202588], dtype=float32)]"
      ]
     },
     "execution_count": 35,
     "metadata": {},
     "output_type": "execute_result"
    }
   ],
   "source": [
    "## get the weights \n",
    "classifier.get_weights()"
   ]
  },
  {
   "cell_type": "code",
   "execution_count": null,
   "metadata": {},
   "outputs": [],
   "source": [
    "## add dropout layer\n",
    "# classifier.add(Dropout(0.3))"
   ]
  }
 ],
 "metadata": {
  "kernelspec": {
   "display_name": "Python 3",
   "language": "python",
   "name": "python3"
  },
  "language_info": {
   "codemirror_mode": {
    "name": "ipython",
    "version": 3
   },
   "file_extension": ".py",
   "mimetype": "text/x-python",
   "name": "python",
   "nbconvert_exporter": "python",
   "pygments_lexer": "ipython3",
   "version": "3.8.17"
  },
  "orig_nbformat": 4
 },
 "nbformat": 4,
 "nbformat_minor": 2
}
